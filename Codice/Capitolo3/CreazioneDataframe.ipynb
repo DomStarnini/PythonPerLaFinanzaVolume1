{
 "cells": [
  {
   "cell_type": "code",
   "execution_count": 1,
   "metadata": {},
   "outputs": [],
   "source": [
    "import numpy as np\n",
    "import pandas as pd"
   ]
  },
  {
   "cell_type": "code",
   "execution_count": 8,
   "metadata": {},
   "outputs": [],
   "source": [
    "righe = np.arange(1,6)\n",
    "colonne = list('ABCDF')"
   ]
  },
  {
   "cell_type": "code",
   "execution_count": 12,
   "metadata": {},
   "outputs": [
    {
     "name": "stdout",
     "output_type": "stream",
     "text": [
      "   A  B  C  D  F\n",
      "1  8  1  5  4  1\n",
      "2  6  8  0  8  8\n",
      "3  3  2  9  2  3\n",
      "4  4  4  9  7  7\n",
      "5  6  9  5  6  9\n"
     ]
    }
   ],
   "source": [
    "df = pd.DataFrame(np.random.randint(10, size=(5,5)),index=righe,columns=colonne)\n",
    "print (df)"
   ]
  },
  {
   "cell_type": "code",
   "execution_count": 13,
   "metadata": {},
   "outputs": [],
   "source": [
    "azioni_definizione=[('nome','U25'),('simbolo','U5'),('last_price','f8')]"
   ]
  },
  {
   "cell_type": "code",
   "execution_count": 14,
   "metadata": {},
   "outputs": [],
   "source": [
    "azioni_array=np.array([('APPLE','AAPL',272.24),('MICROSOFT','MSFT',153.44),('NETFLIX','NFLX',301.49)],dtype=azioni_definizione)"
   ]
  },
  {
   "cell_type": "code",
   "execution_count": 15,
   "metadata": {},
   "outputs": [],
   "source": [
    "df=pd.DataFrame(azioni_array)"
   ]
  },
  {
   "cell_type": "code",
   "execution_count": 16,
   "metadata": {},
   "outputs": [
    {
     "data": {
      "text/html": [
       "<div>\n",
       "<style scoped>\n",
       "    .dataframe tbody tr th:only-of-type {\n",
       "        vertical-align: middle;\n",
       "    }\n",
       "\n",
       "    .dataframe tbody tr th {\n",
       "        vertical-align: top;\n",
       "    }\n",
       "\n",
       "    .dataframe thead th {\n",
       "        text-align: right;\n",
       "    }\n",
       "</style>\n",
       "<table border=\"1\" class=\"dataframe\">\n",
       "  <thead>\n",
       "    <tr style=\"text-align: right;\">\n",
       "      <th></th>\n",
       "      <th>nome</th>\n",
       "      <th>simbolo</th>\n",
       "      <th>last_price</th>\n",
       "    </tr>\n",
       "  </thead>\n",
       "  <tbody>\n",
       "    <tr>\n",
       "      <th>0</th>\n",
       "      <td>APPLE</td>\n",
       "      <td>AAPL</td>\n",
       "      <td>272.24</td>\n",
       "    </tr>\n",
       "    <tr>\n",
       "      <th>1</th>\n",
       "      <td>MICROSOFT</td>\n",
       "      <td>MSFT</td>\n",
       "      <td>153.44</td>\n",
       "    </tr>\n",
       "    <tr>\n",
       "      <th>2</th>\n",
       "      <td>NETFLIX</td>\n",
       "      <td>NFLX</td>\n",
       "      <td>301.49</td>\n",
       "    </tr>\n",
       "  </tbody>\n",
       "</table>\n",
       "</div>"
      ],
      "text/plain": [
       "        nome simbolo  last_price\n",
       "0      APPLE    AAPL      272.24\n",
       "1  MICROSOFT    MSFT      153.44\n",
       "2    NETFLIX    NFLX      301.49"
      ]
     },
     "execution_count": 16,
     "metadata": {},
     "output_type": "execute_result"
    }
   ],
   "source": [
    "df.head()"
   ]
  },
  {
   "cell_type": "code",
   "execution_count": 20,
   "metadata": {},
   "outputs": [],
   "source": [
    "df = pd.read_csv('btceu.csv', sep=',') "
   ]
  },
  {
   "cell_type": "code",
   "execution_count": 21,
   "metadata": {},
   "outputs": [
    {
     "data": {
      "text/html": [
       "<div>\n",
       "<style scoped>\n",
       "    .dataframe tbody tr th:only-of-type {\n",
       "        vertical-align: middle;\n",
       "    }\n",
       "\n",
       "    .dataframe tbody tr th {\n",
       "        vertical-align: top;\n",
       "    }\n",
       "\n",
       "    .dataframe thead th {\n",
       "        text-align: right;\n",
       "    }\n",
       "</style>\n",
       "<table border=\"1\" class=\"dataframe\">\n",
       "  <thead>\n",
       "    <tr style=\"text-align: right;\">\n",
       "      <th></th>\n",
       "      <th>Date</th>\n",
       "      <th>Open</th>\n",
       "      <th>High</th>\n",
       "      <th>Low</th>\n",
       "      <th>Close</th>\n",
       "      <th>Adj Close</th>\n",
       "      <th>Volume</th>\n",
       "    </tr>\n",
       "  </thead>\n",
       "  <tbody>\n",
       "    <tr>\n",
       "      <th>0</th>\n",
       "      <td>2018-02-12</td>\n",
       "      <td>6606.509766</td>\n",
       "      <td>7307.669922</td>\n",
       "      <td>6601.169922</td>\n",
       "      <td>7238.939941</td>\n",
       "      <td>7238.939941</td>\n",
       "      <td>168800447</td>\n",
       "    </tr>\n",
       "    <tr>\n",
       "      <th>1</th>\n",
       "      <td>2018-02-11</td>\n",
       "      <td>7005.089844</td>\n",
       "      <td>7005.089844</td>\n",
       "      <td>6424.439941</td>\n",
       "      <td>6606.509766</td>\n",
       "      <td>6606.509766</td>\n",
       "      <td>130298613</td>\n",
       "    </tr>\n",
       "    <tr>\n",
       "      <th>2</th>\n",
       "      <td>2018-02-10</td>\n",
       "      <td>7084.979980</td>\n",
       "      <td>7435.410156</td>\n",
       "      <td>6684.930176</td>\n",
       "      <td>7004.350098</td>\n",
       "      <td>7004.350098</td>\n",
       "      <td>203999393</td>\n",
       "    </tr>\n",
       "    <tr>\n",
       "      <th>3</th>\n",
       "      <td>2018-02-09</td>\n",
       "      <td>6755.160156</td>\n",
       "      <td>7157.939941</td>\n",
       "      <td>6368.669922</td>\n",
       "      <td>7085.009766</td>\n",
       "      <td>7085.009766</td>\n",
       "      <td>197249406</td>\n",
       "    </tr>\n",
       "    <tr>\n",
       "      <th>4</th>\n",
       "      <td>2018-02-08</td>\n",
       "      <td>6177.359863</td>\n",
       "      <td>7094.399902</td>\n",
       "      <td>6169.850098</td>\n",
       "      <td>6755.160156</td>\n",
       "      <td>6755.160156</td>\n",
       "      <td>223773717</td>\n",
       "    </tr>\n",
       "  </tbody>\n",
       "</table>\n",
       "</div>"
      ],
      "text/plain": [
       "         Date         Open         High          Low        Close  \\\n",
       "0  2018-02-12  6606.509766  7307.669922  6601.169922  7238.939941   \n",
       "1  2018-02-11  7005.089844  7005.089844  6424.439941  6606.509766   \n",
       "2  2018-02-10  7084.979980  7435.410156  6684.930176  7004.350098   \n",
       "3  2018-02-09  6755.160156  7157.939941  6368.669922  7085.009766   \n",
       "4  2018-02-08  6177.359863  7094.399902  6169.850098  6755.160156   \n",
       "\n",
       "     Adj Close     Volume  \n",
       "0  7238.939941  168800447  \n",
       "1  6606.509766  130298613  \n",
       "2  7004.350098  203999393  \n",
       "3  7085.009766  197249406  \n",
       "4  6755.160156  223773717  "
      ]
     },
     "execution_count": 21,
     "metadata": {},
     "output_type": "execute_result"
    }
   ],
   "source": [
    "df.head()"
   ]
  },
  {
   "cell_type": "code",
   "execution_count": 22,
   "metadata": {},
   "outputs": [
    {
     "data": {
      "text/html": [
       "<div>\n",
       "<style scoped>\n",
       "    .dataframe tbody tr th:only-of-type {\n",
       "        vertical-align: middle;\n",
       "    }\n",
       "\n",
       "    .dataframe tbody tr th {\n",
       "        vertical-align: top;\n",
       "    }\n",
       "\n",
       "    .dataframe thead th {\n",
       "        text-align: right;\n",
       "    }\n",
       "</style>\n",
       "<table border=\"1\" class=\"dataframe\">\n",
       "  <thead>\n",
       "    <tr style=\"text-align: right;\">\n",
       "      <th></th>\n",
       "      <th>Date</th>\n",
       "      <th>Open</th>\n",
       "      <th>High</th>\n",
       "      <th>Low</th>\n",
       "      <th>Close</th>\n",
       "      <th>Adj Close</th>\n",
       "      <th>Volume</th>\n",
       "    </tr>\n",
       "  </thead>\n",
       "  <tbody>\n",
       "    <tr>\n",
       "      <th>6</th>\n",
       "      <td>2018-02-06</td>\n",
       "      <td>5485.209961</td>\n",
       "      <td>6442.209961</td>\n",
       "      <td>4725.240234</td>\n",
       "      <td>6207.049805</td>\n",
       "      <td>6207.049805</td>\n",
       "      <td>573323711</td>\n",
       "    </tr>\n",
       "    <tr>\n",
       "      <th>7</th>\n",
       "      <td>2018-02-05</td>\n",
       "      <td>6544.209961</td>\n",
       "      <td>6703.109863</td>\n",
       "      <td>5255.290039</td>\n",
       "      <td>5480.879883</td>\n",
       "      <td>5480.879883</td>\n",
       "      <td>422397032</td>\n",
       "    </tr>\n",
       "    <tr>\n",
       "      <th>8</th>\n",
       "      <td>2018-02-04</td>\n",
       "      <td>7424.270020</td>\n",
       "      <td>7536.310059</td>\n",
       "      <td>6241.620117</td>\n",
       "      <td>6544.209961</td>\n",
       "      <td>6544.209961</td>\n",
       "      <td>224046248</td>\n",
       "    </tr>\n",
       "    <tr>\n",
       "      <th>9</th>\n",
       "      <td>2018-02-03</td>\n",
       "      <td>7098.779785</td>\n",
       "      <td>7639.790039</td>\n",
       "      <td>6546.779785</td>\n",
       "      <td>7424.290039</td>\n",
       "      <td>7424.290039</td>\n",
       "      <td>186666408</td>\n",
       "    </tr>\n",
       "    <tr>\n",
       "      <th>10</th>\n",
       "      <td>2018-02-02</td>\n",
       "      <td>7179.600098</td>\n",
       "      <td>7377.439941</td>\n",
       "      <td>6003.399902</td>\n",
       "      <td>7097.120117</td>\n",
       "      <td>7097.120117</td>\n",
       "      <td>478795253</td>\n",
       "    </tr>\n",
       "  </tbody>\n",
       "</table>\n",
       "</div>"
      ],
      "text/plain": [
       "          Date         Open         High          Low        Close  \\\n",
       "6   2018-02-06  5485.209961  6442.209961  4725.240234  6207.049805   \n",
       "7   2018-02-05  6544.209961  6703.109863  5255.290039  5480.879883   \n",
       "8   2018-02-04  7424.270020  7536.310059  6241.620117  6544.209961   \n",
       "9   2018-02-03  7098.779785  7639.790039  6546.779785  7424.290039   \n",
       "10  2018-02-02  7179.600098  7377.439941  6003.399902  7097.120117   \n",
       "\n",
       "      Adj Close     Volume  \n",
       "6   6207.049805  573323711  \n",
       "7   5480.879883  422397032  \n",
       "8   6544.209961  224046248  \n",
       "9   7424.290039  186666408  \n",
       "10  7097.120117  478795253  "
      ]
     },
     "execution_count": 22,
     "metadata": {},
     "output_type": "execute_result"
    }
   ],
   "source": [
    "df.tail()"
   ]
  },
  {
   "cell_type": "code",
   "execution_count": null,
   "metadata": {},
   "outputs": [],
   "source": []
  }
 ],
 "metadata": {
  "kernelspec": {
   "display_name": "Python 3",
   "language": "python",
   "name": "python3"
  },
  "language_info": {
   "codemirror_mode": {
    "name": "ipython",
    "version": 3
   },
   "file_extension": ".py",
   "mimetype": "text/x-python",
   "name": "python",
   "nbconvert_exporter": "python",
   "pygments_lexer": "ipython3",
   "version": "3.7.4"
  }
 },
 "nbformat": 4,
 "nbformat_minor": 2
}
