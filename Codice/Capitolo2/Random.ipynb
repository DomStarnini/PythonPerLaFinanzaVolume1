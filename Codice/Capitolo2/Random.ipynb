{
 "cells": [
  {
   "cell_type": "code",
   "execution_count": 1,
   "metadata": {},
   "outputs": [],
   "source": [
    "import numpy as np"
   ]
  },
  {
   "cell_type": "code",
   "execution_count": 5,
   "metadata": {},
   "outputs": [],
   "source": [
    "mio_array_float=np.random.rand(5)"
   ]
  },
  {
   "cell_type": "code",
   "execution_count": 6,
   "metadata": {},
   "outputs": [
    {
     "data": {
      "text/plain": [
       "array([0.03131458, 0.92822765, 0.78171677, 0.9059801 , 0.87094189])"
      ]
     },
     "execution_count": 6,
     "metadata": {},
     "output_type": "execute_result"
    }
   ],
   "source": [
    "mio_array_float"
   ]
  },
  {
   "cell_type": "code",
   "execution_count": 7,
   "metadata": {},
   "outputs": [],
   "source": [
    "mia_matrice_float=np.random.rand(5,7)"
   ]
  },
  {
   "cell_type": "code",
   "execution_count": 8,
   "metadata": {},
   "outputs": [
    {
     "data": {
      "text/plain": [
       "array([[0.45831941, 0.78377774, 0.51746679, 0.57861063, 0.70962401,\n",
       "        0.66773645, 0.09512712],\n",
       "       [0.7333945 , 0.43076402, 0.97156876, 0.8358296 , 0.34965121,\n",
       "        0.76943945, 0.20708494],\n",
       "       [0.70959961, 0.82620646, 0.53357318, 0.52088427, 0.75957216,\n",
       "        0.6247006 , 0.73671678],\n",
       "       [0.16612329, 0.28237997, 0.19293718, 0.0073684 , 0.1343168 ,\n",
       "        0.58094063, 0.24240917],\n",
       "       [0.92774394, 0.12340698, 0.78061429, 0.2021131 , 0.42089328,\n",
       "        0.02866192, 0.59131874]])"
      ]
     },
     "execution_count": 8,
     "metadata": {},
     "output_type": "execute_result"
    }
   ],
   "source": [
    "mia_matrice_float"
   ]
  },
  {
   "cell_type": "code",
   "execution_count": 11,
   "metadata": {},
   "outputs": [],
   "source": [
    "mio_array_int=np.random.randint(5, size=10)"
   ]
  },
  {
   "cell_type": "code",
   "execution_count": 12,
   "metadata": {},
   "outputs": [
    {
     "data": {
      "text/plain": [
       "array([3, 2, 0, 3, 1, 0, 3, 4, 0, 2])"
      ]
     },
     "execution_count": 12,
     "metadata": {},
     "output_type": "execute_result"
    }
   ],
   "source": [
    "mio_array_int"
   ]
  },
  {
   "cell_type": "code",
   "execution_count": 14,
   "metadata": {},
   "outputs": [],
   "source": [
    "mia_matrice_int=np.random.randint(5, size=(10,8))"
   ]
  },
  {
   "cell_type": "code",
   "execution_count": 15,
   "metadata": {},
   "outputs": [
    {
     "data": {
      "text/plain": [
       "array([[4, 4, 2, 2, 0, 1, 2, 0],\n",
       "       [4, 0, 1, 0, 2, 1, 0, 1],\n",
       "       [1, 0, 2, 3, 2, 3, 4, 0],\n",
       "       [0, 0, 1, 3, 0, 2, 4, 1],\n",
       "       [4, 2, 2, 4, 4, 1, 4, 3],\n",
       "       [0, 1, 1, 3, 2, 4, 4, 4],\n",
       "       [2, 2, 3, 3, 1, 0, 3, 1],\n",
       "       [1, 2, 1, 4, 3, 4, 0, 1],\n",
       "       [3, 2, 1, 1, 0, 2, 4, 0],\n",
       "       [1, 3, 3, 4, 1, 1, 0, 0]])"
      ]
     },
     "execution_count": 15,
     "metadata": {},
     "output_type": "execute_result"
    }
   ],
   "source": [
    "mia_matrice_int"
   ]
  },
  {
   "cell_type": "code",
   "execution_count": null,
   "metadata": {},
   "outputs": [],
   "source": []
  }
 ],
 "metadata": {
  "kernelspec": {
   "display_name": "Python 3",
   "language": "python",
   "name": "python3"
  },
  "language_info": {
   "codemirror_mode": {
    "name": "ipython",
    "version": 3
   },
   "file_extension": ".py",
   "mimetype": "text/x-python",
   "name": "python",
   "nbconvert_exporter": "python",
   "pygments_lexer": "ipython3",
   "version": "3.7.4"
  }
 },
 "nbformat": 4,
 "nbformat_minor": 2
}
